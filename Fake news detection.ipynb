{
  "metadata": {
    "kernelspec": {
      "name": "python",
      "display_name": "Python (Pyodide)",
      "language": "python"
    },
    "language_info": {
      "codemirror_mode": {
        "name": "python",
        "version": 3
      },
      "file_extension": ".py",
      "mimetype": "text/x-python",
      "name": "python",
      "nbconvert_exporter": "python",
      "pygments_lexer": "ipython3",
      "version": "3.8"
    }
  },
  "nbformat_minor": 5,
  "nbformat": 4,
  "cells": [
    {
      "id": "856460d6-59a3-4d6c-90fb-0bf9b1b9145b",
      "cell_type": "code",
      "source": "from sklearn.feature_extraction.text import TfidfVectorizer\nfrom sklearn.linear_model import PassiveAggressiveClassifier\n\n# Sample data\ntexts = [\"This is real news\", \"Click here to win a million dollars!\", \"Government confirms new law\"]\nlabels = [\"REAL\", \"FAKE\", \"REAL\"]\n\n# Vectorize text\nvectorizer = TfidfVectorizer()\nX = vectorizer.fit_transform(texts)\n\n# Train model\nmodel = PassiveAggressiveClassifier()\nmodel.fit(X, labels)\n\n# Test\ntest_news = [\"Win a free iPhone now!\"]\ntest_vec = vectorizer.transform(test_news)\nprint(\"Prediction:\", model.predict(test_vec)[0])",
      "metadata": {
        "trusted": true
      },
      "outputs": [
        {
          "name": "stdout",
          "output_type": "stream",
          "text": "Prediction: FAKE\n"
        }
      ],
      "execution_count": 2
    },
    {
      "id": "50c9776f-651e-43e9-815f-189d8e0b35be",
      "cell_type": "code",
      "source": "# Fake News Detection using sklearn with hardcoded data\nfrom sklearn.feature_extraction.text import TfidfVectorizer\nfrom sklearn.linear_model import PassiveAggressiveClassifier\nfrom sklearn.model_selection import train_test_split\nfrom sklearn.metrics import accuracy_score, confusion_matrix\n\n# Sample dataset (hardcoded)\ntexts = [\n    \"Breaking: Actor says the earth is flat\",        # fake\n    \"NASA confirms new planet discovered\",           # real\n    \"Vaccines are dangerous and should be banned\",   # fake\n    \"COVID-19 vaccine approved by WHO\",              # real\n    \"Aliens built the pyramids, not Egyptians\",      # fake\n    \"Indian economy shows signs of recovery\",        # real\n    \"Global warming is a hoax\",                      # fake\n    \"Government launches new education policy\",      # real\n]\n\nlabels = ['FAKE', 'REAL', 'FAKE', 'REAL', 'FAKE', 'REAL', 'FAKE', 'REAL']\n\n# Split data\nX_train, X_test, y_train, y_test = train_test_split(texts, labels, test_size=0.25, random_state=7)\n\n# Vectorization using TF-IDF\nvectorizer = TfidfVectorizer(stop_words='english', max_df=0.7)\ntfidf_train = vectorizer.fit_transform(X_train)\ntfidf_test = vectorizer.transform(X_test)\n\n# Model: Passive Aggressive Classifier\nmodel = PassiveAggressiveClassifier(max_iter=50)\nmodel.fit(tfidf_train, y_train)\n\n# Predict and Evaluate\ny_pred = model.predict(tfidf_test)\nscore = accuracy_score(y_test, y_pred)\nconf_matrix = confusion_matrix(y_test, y_pred)\n\n# Output\nprint(\"Accuracy: {:.2f}%\".format(score * 100))\nprint(\"\\nConfusion Matrix:\\n\", conf_matrix)\n\n# Try a new prediction\nnew_text = [\"The moon landing was faked\"]\nnew_vec = vectorizer.transform(new_text)\nprint(\"\\nPrediction for test news: \", model.predict(new_vec)[0])",
      "metadata": {
        "trusted": true
      },
      "outputs": [
        {
          "name": "stdout",
          "output_type": "stream",
          "text": "Accuracy: 50.00%\n\nConfusion Matrix:\n [[1 0]\n [1 0]]\n\nPrediction for test news:  FAKE\n"
        }
      ],
      "execution_count": 3
    },
    {
      "id": "f22f619b-0782-45eb-92f7-fc5a463aaa52",
      "cell_type": "code",
      "source": "",
      "metadata": {
        "trusted": true
      },
      "outputs": [],
      "execution_count": null
    }
  ]
}